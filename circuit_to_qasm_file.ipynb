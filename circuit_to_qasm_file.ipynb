{
 "cells": [
  {
   "cell_type": "code",
   "execution_count": 7,
   "id": "0c25a923",
   "metadata": {},
   "outputs": [],
   "source": [
    "import networkx as nx"
   ]
  },
  {
   "cell_type": "code",
   "execution_count": 2,
   "id": "65e7593b",
   "metadata": {
    "scrolled": true
   },
   "outputs": [
    {
     "name": "stdout",
     "output_type": "stream",
     "text": [
      "OPENQASM 2.0;\n",
      "include \"qelib1.inc\";\n",
      "qreg q[3];\n",
      "creg c[3];\n",
      "cx q[0],q[1];\n",
      "h q[0];\n",
      "cx q[1],q[2];\n",
      "t q[0];\n",
      "t q[2];\n",
      "t q[1];\n",
      "cx q[1],q[2];\n",
      "cx q[0],q[1];\n",
      "cx q[2],q[0];\n",
      "measure q[0] -> c[0];\n",
      "measure q[1] -> c[1];\n",
      "measure q[2] -> c[2];\n",
      "\n",
      "OPENQASM 2.0;\n",
      "include \"qelib1.inc\";\n",
      "qreg q[3];\n",
      "creg c[3];\n",
      "cx q[0],q[1];\n",
      "h q[0];\n",
      "cx q[1],q[2];\n",
      "t q[0];\n",
      "t q[2];\n",
      "t q[1];\n",
      "cx q[1],q[2];\n",
      "cx q[0],q[1];\n",
      "cx q[2],q[0];\n",
      "m\n"
     ]
    }
   ],
   "source": [
    "import pennylane as qml\n",
    "dev = qml.device(\"default.qubit\", wires = 3)\n",
    "@qml.qnode(dev)\n",
    "def circuit(x):\n",
    "    qml.CNOT(wires=[0, 2])\n",
    "    qml.Hadamard(wires=0)\n",
    "    qml.CNOT(wires=[2, 1])\n",
    "    qml.T(wires=0)\n",
    "    qml.T(wires=1)\n",
    "    qml.T(wires=2)\n",
    "    qml.CNOT(wires=[2, 1])\n",
    "    qml.CNOT(wires=[0, 2])\n",
    "    qml.CNOT(wires=[1, 0])\n",
    "    return qml.probs(wires=[0, 1, 2])\n",
    "\n",
    "circuit(0)\n",
    "txt = circuit.qtape.to_openqasm()\n",
    "print(txt)\n",
    "txt = txt[0:-65]\n",
    "print(txt)\n",
    "file = open('cir9.qasm', 'w')\n",
    "file.write(txt)\n",
    "file.close()"
   ]
  },
  {
   "cell_type": "code",
   "execution_count": 3,
   "id": "6350c67f",
   "metadata": {},
   "outputs": [
    {
     "name": "stdout",
     "output_type": "stream",
     "text": [
      "0: ─╭●──H──T────╭●─╭X─┤ ╭Probs\n",
      "1: ─│──╭X──T─╭X─│──╰●─┤ ├Probs\n",
      "2: ─╰X─╰●──T─╰●─╰X────┤ ╰Probs\n"
     ]
    }
   ],
   "source": [
    "drawer=qml.draw(circuit)\n",
    "print(drawer(0))"
   ]
  }
 ],
 "metadata": {
  "kernelspec": {
   "display_name": "Python 3 (ipykernel)",
   "language": "python",
   "name": "python3"
  },
  "language_info": {
   "codemirror_mode": {
    "name": "ipython",
    "version": 3
   },
   "file_extension": ".py",
   "mimetype": "text/x-python",
   "name": "python",
   "nbconvert_exporter": "python",
   "pygments_lexer": "ipython3",
   "version": "3.10.12"
  }
 },
 "nbformat": 4,
 "nbformat_minor": 5
}
